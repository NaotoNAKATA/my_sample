{
 "cells": [
  {
   "cell_type": "code",
   "execution_count": 1,
   "metadata": {},
   "outputs": [],
   "source": [
    "\"\"\"カルマンフィルター(設定例)\"\"\"\n",
    "import sympy\n",
    "sympy.init_printing()"
   ]
  },
  {
   "cell_type": "code",
   "execution_count": 2,
   "metadata": {},
   "outputs": [
    {
     "data": {
      "text/latex": [
       "$$\\boldsymbol{x}_{k} = \\left[\\begin{matrix}x_{k}\\\\\\dot{x}_{k}\\end{matrix}\\right]$$"
      ],
      "text/plain": [
       "       ⎡   x_{k}   ⎤\n",
       "xbmₖ = ⎢           ⎥\n",
       "       ⎣\\dot{x}_{k}⎦"
      ]
     },
     "execution_count": 2,
     "metadata": {},
     "output_type": "execute_result"
    }
   ],
   "source": [
    "\"\"\"設定例\"\"\"\n",
    "# システム状態はトロッコの位置と速度\n",
    "x, dx = sympy.symbols('x_{k} \\dot{x}_{k}')\n",
    "xk = sympy.MatrixSymbol('xbm_k',2, 1)\n",
    "_xk = sympy.Matrix([[x],[dx]])\n",
    "\n",
    "sympy.Eq(xk,_xk)"
   ]
  },
  {
   "cell_type": "code",
   "execution_count": 3,
   "metadata": {},
   "outputs": [
    {
     "data": {
      "text/latex": [
       "$$\\left ( F_{k} = \\left[\\begin{matrix}1 & {\\Delta}t\\\\0 & 1\\end{matrix}\\right], \\quad \\boldsymbol{u}_{k} = \\left[\\begin{matrix}0\\\\0\\end{matrix}\\right]\\right )$$"
      ],
      "text/plain": [
       "⎛     ⎡1  {\\Delta}t⎤         ⎡0⎤⎞\n",
       "⎜Fₖ = ⎢            ⎥, ubmₖ = ⎢ ⎥⎟\n",
       "⎝     ⎣0      1    ⎦         ⎣0⎦⎠"
      ]
     },
     "execution_count": 3,
     "metadata": {},
     "output_type": "execute_result"
    }
   ],
   "source": [
    "# 時間変化なしFk=F\n",
    "Fk = sympy.MatrixSymbol('F_k', 2, 2)\n",
    "dt = sympy.symbols('{\\Delta}t')\n",
    "F = sympy.Matrix([[1,dt],[0,1]])\n",
    "\n",
    "# 制御はなしuk＝0\n",
    "uk = sympy.MatrixSymbol('ubm_k', 2,1)\n",
    "_uk = sympy.Matrix([[0],[0]])\n",
    "\n",
    "sympy.Eq(Fk,F),\\\n",
    "sympy.Eq(uk,_uk)"
   ]
  },
  {
   "cell_type": "code",
   "execution_count": 4,
   "metadata": {},
   "outputs": [
    {
     "data": {
      "text/latex": [
       "$$\\boldsymbol{x}_{k} = \\left[\\begin{matrix}\\dot{x}_{k} {\\Delta}t + x_{k}\\\\\\dot{x}_{k}\\end{matrix}\\right]$$"
      ],
      "text/plain": [
       "       ⎡\\dot{x}_{k}⋅{\\Delta}t + x_{k}⎤\n",
       "xbmₖ = ⎢                             ⎥\n",
       "       ⎣         \\dot{x}_{k}         ⎦"
      ]
     },
     "execution_count": 4,
     "metadata": {},
     "output_type": "execute_result"
    }
   ],
   "source": [
    "# 雑音なしのときのシステム状態遷移\n",
    "# (運動の第２法則)\n",
    "sympy.Eq(xk, F*_xk + _uk)"
   ]
  },
  {
   "cell_type": "code",
   "execution_count": 5,
   "metadata": {},
   "outputs": [
    {
     "data": {
      "text/latex": [
       "$$\\left ( \\boldsymbol{w}_{k} = \\left[\\begin{matrix}a_{k}\\end{matrix}\\right], \\quad N{\\left (0,\\left[\\begin{matrix}{\\sigma}_a^{2}\\end{matrix}\\right] \\right )}, \\quad Q_{k} = \\left[\\begin{matrix}{\\sigma}_a^{2}\\end{matrix}\\right]\\right )$$"
      ],
      "text/plain": [
       "⎛                 ⎛   ⎡         2⎤⎞       ⎡         2⎤⎞\n",
       "⎝wbmₖ = [a_{k}], N⎝0, ⎣{\\sigma}ₐ ⎦⎠, Qₖ = ⎣{\\sigma}ₐ ⎦⎠"
      ]
     },
     "execution_count": 5,
     "metadata": {},
     "output_type": "execute_result"
    }
   ],
   "source": [
    "# 雑音によって加速されるものとする\n",
    "# akは平均0標準偏差σaの正規分布\n",
    "wk = sympy.MatrixSymbol('wbm_k', 1, 1)\n",
    "ak, sa = sympy.symbols('a_{k} {\\sigma}_a')\n",
    "_wk = sympy.Matrix([ak])\n",
    "\n",
    "Qk = sympy.MatrixSymbol('Q_k', 1, 1)\n",
    "Q = sympy.Matrix([sa**2])\n",
    "\n",
    "sympy.Eq(wk,_wk),\\\n",
    "sympy.Function('N')(0,Q),\\\n",
    "sympy.Eq(Qk,Q)"
   ]
  },
  {
   "cell_type": "code",
   "execution_count": 6,
   "metadata": {},
   "outputs": [
    {
     "data": {
      "text/latex": [
       "$$G_{k} = \\left[\\begin{matrix}\\frac{{\\Delta}t^{2}}{2}\\\\{\\Delta}t\\end{matrix}\\right]$$"
      ],
      "text/plain": [
       "     ⎡         2⎤\n",
       "     ⎢{\\Delta}t ⎥\n",
       "     ⎢──────────⎥\n",
       "Gₖ = ⎢    2     ⎥\n",
       "     ⎢          ⎥\n",
       "     ⎣{\\Delta}t ⎦"
      ]
     },
     "execution_count": 6,
     "metadata": {},
     "output_type": "execute_result"
    }
   ],
   "source": [
    "# 雑音によって加速されるものとする\n",
    "# 時間変化なしG\n",
    "# dt間に加速度akが与えられる\n",
    "Gk = sympy.MatrixSymbol('G_k', 2, 1)\n",
    "G = sympy.Matrix([\n",
    "    [dt**2*sympy.Rational(1,2)],[dt]])\n",
    "sympy.Eq(Gk,G)"
   ]
  },
  {
   "cell_type": "code",
   "execution_count": 7,
   "metadata": {},
   "outputs": [
    {
     "data": {
      "text/latex": [
       "$$\\boldsymbol{x}_{k} = \\left[\\begin{matrix}\\dot{x}_{k} {\\Delta}t + \\frac{a_{k} {\\Delta}t^{2}}{2} + x_{k}\\\\\\dot{x}_{k} + a_{k} {\\Delta}t\\end{matrix}\\right]$$"
      ],
      "text/plain": [
       "       ⎡                                       2        ⎤\n",
       "       ⎢                        a_{k}⋅{\\Delta}t         ⎥\n",
       "       ⎢\\dot{x}_{k}⋅{\\Delta}t + ──────────────── + x_{k}⎥\n",
       "xbmₖ = ⎢                               2                ⎥\n",
       "       ⎢                                                ⎥\n",
       "       ⎣         \\dot{x}_{k} + a_{k}⋅{\\Delta}t          ⎦"
      ]
     },
     "execution_count": 7,
     "metadata": {},
     "output_type": "execute_result"
    }
   ],
   "source": [
    "# 雑音ありのときのシステムの状態遷移\n",
    "# 運動の第2法則より\n",
    "sympy.Eq(xk, F*_xk+G*_wk)"
   ]
  },
  {
   "cell_type": "code",
   "execution_count": 8,
   "metadata": {},
   "outputs": [
    {
     "data": {
      "text/latex": [
       "$$\\left ( \\boldsymbol{z}_{k} = \\left[\\begin{matrix}z_{k}\\end{matrix}\\right], \\quad H_{k} = \\left[\\begin{matrix}1 & 0\\end{matrix}\\right], \\quad \\left[\\begin{matrix}z_{k}\\end{matrix}\\right] = \\left[\\begin{matrix}x_{k}\\end{matrix}\\right]\\right )$$"
      ],
      "text/plain": [
       "(zbmₖ = [zₖ], Hₖ = [1  0], [zₖ] = [x_{k}])"
      ]
     },
     "execution_count": 8,
     "metadata": {},
     "output_type": "execute_result"
    }
   ],
   "source": [
    "# 位置を観測する(雑音なし)\n",
    "# 時間変化なしH\n",
    "zk = sympy.MatrixSymbol('zbm_k', 1, 1)\n",
    "_zk = sympy.Matrix([sympy.symbols('z_k')])\n",
    "\n",
    "Hk = sympy.MatrixSymbol('H_k', 1, 2)\n",
    "H = sympy.Matrix([[1,0]])\n",
    "\n",
    "sympy.Eq(zk,_zk),\\\n",
    "sympy.Eq(Hk,H),\\\n",
    "sympy.Eq(_zk,H*_xk)"
   ]
  },
  {
   "cell_type": "code",
   "execution_count": 9,
   "metadata": {},
   "outputs": [
    {
     "data": {
      "text/latex": [
       "$$\\left ( \\boldsymbol{v}_{k} = \\left[\\begin{matrix}v_{k}\\end{matrix}\\right], \\quad N{\\left (0,{\\sigma}_z^{2} \\right )}, \\quad R_{k} = \\left[\\begin{matrix}{\\sigma}_z^{2}\\end{matrix}\\right]\\right )$$"
      ],
      "text/plain": [
       "⎛              ⎛             2⎞       ⎡          2⎤⎞\n",
       "⎝vbmₖ = [vₖ], N⎝0, {\\sigma}_z ⎠, Rₖ = ⎣{\\sigma}_z ⎦⎠"
      ]
     },
     "execution_count": 9,
     "metadata": {},
     "output_type": "execute_result"
    }
   ],
   "source": [
    "# 観測雑音も平均0、標準偏差σzの正規分布\n",
    "sz = sympy.symbols('{\\\\sigma}_z')\n",
    "vk = sympy.MatrixSymbol('vbm_k', 1, 1)\n",
    "_vk = sympy.Matrix([sympy.symbols('v_k')])\n",
    "Rk = sympy.MatrixSymbol('R_k',1, 1)\n",
    "R = sympy.Matrix([sz**2])\n",
    "                        \n",
    "sympy.Eq(vk,_vk),\\\n",
    "sympy.Function('N')(0,sz**2),\\\n",
    "sympy.Eq(Rk,R)"
   ]
  },
  {
   "cell_type": "code",
   "execution_count": 10,
   "metadata": {},
   "outputs": [
    {
     "data": {
      "text/latex": [
       "$$\\left[\\begin{matrix}z_{k}\\end{matrix}\\right] = \\left[\\begin{matrix}v_{k} + x_{k}\\end{matrix}\\right]$$"
      ],
      "text/plain": [
       "[zₖ] = [vₖ + x_{k}]"
      ]
     },
     "execution_count": 10,
     "metadata": {},
     "output_type": "execute_result"
    }
   ],
   "source": [
    "# 位置を観測する(雑音あり)\n",
    "sympy.Eq(_zk,H*_xk+_vk)"
   ]
  },
  {
   "cell_type": "code",
   "execution_count": 11,
   "metadata": {},
   "outputs": [],
   "source": [
    "E = sympy.Function('E')\n",
    "cov = sympy.Function('cov')"
   ]
  },
  {
   "cell_type": "code",
   "execution_count": 12,
   "metadata": {},
   "outputs": [
    {
     "data": {
      "text/latex": [
       "$$\\left ( \\left[\\begin{matrix}\\hat{x}_{k|k-1}\\\\\\hat{\\dot{x}}_{k|k-1}\\end{matrix}\\right] = \\left[\\begin{matrix}\\hat{\\dot{x}}_{k-1|k-1} {\\Delta}t + \\hat{x}_{k-1|k-1}\\\\\\hat{\\dot{x}}_{k-1|k-1}\\end{matrix}\\right], \\quad E{\\left (\\left[\\begin{matrix}- \\hat{x}_{k|k-1} + x_{k}\\\\\\dot{x}_{k} - \\hat{\\dot{x}}_{k|k-1}\\end{matrix}\\right] \\right )} = 0\\right )$$"
      ],
      "text/plain": [
       "⎛⎡   \\hat{x}_{k|k-1}   ⎤   ⎡\\hat{\\dot{x}}_{k-1|k-1}⋅{\\Delta}t + \\hat{x}_{k-1|k\n",
       "⎜⎢                     ⎥ = ⎢                                                  \n",
       "⎝⎣\\hat{\\dot{x}}_{k|k-1}⎦   ⎣               \\hat{\\dot{x}}_{k-1|k-1}            \n",
       "\n",
       "-1}⎤   ⎛⎡     -\\hat{x}_{k|k-1} + x_{k}      ⎤⎞    ⎞\n",
       "   ⎥, E⎜⎢                                   ⎥⎟ = 0⎟\n",
       "   ⎦   ⎝⎣\\dot{x}_{k} - \\hat{\\dot{x}}_{k|k-1}⎦⎠    ⎠"
      ]
     },
     "execution_count": 12,
     "metadata": {},
     "output_type": "execute_result"
    }
   ],
   "source": [
    "\"\"\"設定例の予測\"\"\"\n",
    "# 時刻k-1で推定したシステム状態の推定値\n",
    "_xk1_k1_x = sympy.symbols('\\hat{x}_{k-1|k-1}')\n",
    "_xk1_k1_dx = sympy.symbols('\\hat{\\dot{x}}_{k-1|k-1}')\n",
    "_xk1_k1 = sympy.Matrix([[_xk1_k1_x],[_xk1_k1_dx]])        \n",
    "\n",
    "# 時刻k-1の推定値から予測した、時刻kのシステム状態の推定値\n",
    "_xk_k1_x = sympy.symbols('\\hat{x}_{k|k-1}')\n",
    "_xk_k1_dx = sympy.symbols('\\hat{\\dot{x}}_{k|k-1}')\n",
    "_xk_k1 = sympy.Matrix([[_xk_k1_x],[_xk_k1_dx]])        \n",
    "\n",
    "sympy.Eq(_xk_k1,F*_xk1_k1),\\\n",
    "sympy.Eq(E(_xk-_xk_k1),0)"
   ]
  },
  {
   "cell_type": "code",
   "execution_count": 13,
   "metadata": {},
   "outputs": [
    {
     "data": {
      "text/latex": [
       "$$P_{k|k-1} = \\left[\\begin{matrix}\\frac{{\\Delta}t^{4} {\\sigma}_a^{2}}{4} & \\frac{{\\Delta}t^{3} {\\sigma}_a^{2}}{2}\\\\\\frac{{\\Delta}t^{3} {\\sigma}_a^{2}}{2} & {\\Delta}t^{2} {\\sigma}_a^{2}\\end{matrix}\\right] + \\left[\\begin{matrix}1 & {\\Delta}t\\\\0 & 1\\end{matrix}\\right] P_{k-1|k-1} \\left[\\begin{matrix}1 & 0\\\\{\\Delta}t & 1\\end{matrix}\\right]$$"
      ],
      "text/plain": [
       "            ⎡         4          2           3          2⎤                    \n",
       "            ⎢{\\Delta}t ⋅{\\sigma}ₐ   {\\Delta}t ⋅{\\sigma}ₐ ⎥                    \n",
       "            ⎢─────────────────────  ─────────────────────⎥                    \n",
       "            ⎢          4                      2          ⎥   ⎡1  {\\Delta}t⎤   \n",
       "P_{k|k-1} = ⎢                                            ⎥ + ⎢            ⎥⋅P_\n",
       "            ⎢         3          2                       ⎥   ⎣0      1    ⎦   \n",
       "            ⎢{\\Delta}t ⋅{\\sigma}ₐ            2          2⎥                    \n",
       "            ⎢─────────────────────  {\\Delta}t ⋅{\\sigma}ₐ ⎥                    \n",
       "            ⎣          2                                 ⎦                    \n",
       "\n",
       "                        \n",
       "                        \n",
       "                        \n",
       "          ⎡    1      0⎤\n",
       "{k-1|k-1}⋅⎢            ⎥\n",
       "          ⎣{\\Delta}t  1⎦\n",
       "                        \n",
       "                        \n",
       "                        "
      ]
     },
     "execution_count": 13,
     "metadata": {},
     "output_type": "execute_result"
    }
   ],
   "source": [
    "\"\"\"設定例の予測(精度)\"\"\"\n",
    "# システム状態の誤差の共分散行列(推定値の精度)\n",
    "# 時刻k-1で推定したシステム状態の推定値の精度\n",
    "Pk1_k1 = sympy.MatrixSymbol('P_{k-1|k-1}', 2, 2)\n",
    "#_Pk1_k1 = sympy.symbols('P^{{0:2}{0:2}}_{k-1|k-1}')\n",
    "#Pk1_k1 = sympy.Matrix([_Pk1_k1[0:2],_Pk1_k1[2:4]])\n",
    "\n",
    "# システムモデルと時刻k-1の精度から予測される、時刻kでのシステム状態の精度\n",
    "Pk_k1 = sympy.MatrixSymbol('P_{k|k-1}', 2, 2)\n",
    "_Pk_k1 = F*Pk1_k1*F.T + G*Q*G.T\n",
    "\n",
    "sympy.Eq(Pk_k1,_Pk_k1)\n",
    "#_Pk_k1[3]\n",
    "\n",
    "#sympy.Eq(Pk_k1,cov(xk-xk_k1)*sympy.Identity(n)),"
   ]
  },
  {
   "cell_type": "code",
   "execution_count": 14,
   "metadata": {},
   "outputs": [
    {
     "data": {
      "text/latex": [
       "$$\\left ( \\boldsymbol{e}_{k} = \\left[\\begin{matrix}- \\hat{x}_{k|k-1} + z_{k}\\end{matrix}\\right], \\quad E{\\left (\\boldsymbol{e}_{k} \\right )} = 0\\right )$$"
      ],
      "text/plain": [
       "(ebmₖ = [-\\hat{x}_{k|k-1} + zₖ], E(ebmₖ) = 0)"
      ]
     },
     "execution_count": 14,
     "metadata": {},
     "output_type": "execute_result"
    }
   ],
   "source": [
    "\"\"\"更新(観測残差,innovation)\"\"\"\n",
    "# 観測値と、予測したシステム状態の推定値から\n",
    "# 計算した予測観測値との差\n",
    "ek = sympy.MatrixSymbol('ebm_k', 1, 1)\n",
    "_ek = _zk-H*_xk_k1\n",
    "sympy.Eq(ek,_ek),\\\n",
    "sympy.Eq(E(ek),0)"
   ]
  },
  {
   "cell_type": "code",
   "execution_count": 15,
   "metadata": {},
   "outputs": [
    {
     "data": {
      "text/latex": [
       "$$S_{k} = \\left[\\begin{matrix}{\\sigma}_z^{2}\\end{matrix}\\right] + \\left[\\begin{matrix}1 & 0\\end{matrix}\\right] P_{k|k-1} \\left[\\begin{matrix}1\\\\0\\end{matrix}\\right]$$"
      ],
      "text/plain": [
       "     ⎡          2⎤                    ⎡1⎤\n",
       "Sₖ = ⎣{\\sigma}_z ⎦ + [1  0]⋅P_{k|k-1}⋅⎢ ⎥\n",
       "                                      ⎣0⎦"
      ]
     },
     "execution_count": 15,
     "metadata": {},
     "output_type": "execute_result"
    }
   ],
   "source": [
    "\"\"\"更新(観測残差の共分散)\"\"\"\n",
    "Sk = sympy.MatrixSymbol('S_k', 1, 1)\n",
    "_Sk = R+H*Pk_k1*H.T\n",
    "sympy.Eq(Sk,_Sk)"
   ]
  },
  {
   "cell_type": "code",
   "execution_count": 16,
   "metadata": {},
   "outputs": [
    {
     "data": {
      "text/latex": [
       "$$K_{k} = \\left(\\left[\\begin{matrix}\\frac{{\\Delta}t^{4} {\\sigma}_a^{2}}{4} & \\frac{{\\Delta}t^{3} {\\sigma}_a^{2}}{2}\\\\\\frac{{\\Delta}t^{3} {\\sigma}_a^{2}}{2} & {\\Delta}t^{2} {\\sigma}_a^{2}\\end{matrix}\\right] + \\left[\\begin{matrix}1 & {\\Delta}t\\\\0 & 1\\end{matrix}\\right] P_{k-1|k-1} \\left[\\begin{matrix}1 & 0\\\\{\\Delta}t & 1\\end{matrix}\\right]\\right) \\left[\\begin{matrix}1\\\\0\\end{matrix}\\right] \\left(\\left[\\begin{matrix}{\\sigma}_z^{2}\\end{matrix}\\right] + \\left[\\begin{matrix}1 & 0\\end{matrix}\\right] P_{k|k-1} \\left[\\begin{matrix}1\\\\0\\end{matrix}\\right]\\right)^{-1}$$"
      ],
      "text/plain": [
       "     ⎛⎡         4          2           3          2⎤                          \n",
       "     ⎜⎢{\\Delta}t ⋅{\\sigma}ₐ   {\\Delta}t ⋅{\\sigma}ₐ ⎥                          \n",
       "     ⎜⎢─────────────────────  ─────────────────────⎥                          \n",
       "     ⎜⎢          4                      2          ⎥   ⎡1  {\\Delta}t⎤         \n",
       "Kₖ = ⎜⎢                                            ⎥ + ⎢            ⎥⋅P_{k-1|k\n",
       "     ⎜⎢         3          2                       ⎥   ⎣0      1    ⎦         \n",
       "     ⎜⎢{\\Delta}t ⋅{\\sigma}ₐ            2          2⎥                          \n",
       "     ⎜⎢─────────────────────  {\\Delta}t ⋅{\\sigma}ₐ ⎥                          \n",
       "     ⎝⎣          2                                 ⎦                          \n",
       "\n",
       "                  ⎞                                             \n",
       "                  ⎟                                             \n",
       "                  ⎟                                           -1\n",
       "    ⎡    1      0⎤⎟ ⎡1⎤ ⎛⎡          2⎤                    ⎡1⎤⎞  \n",
       "-1}⋅⎢            ⎥⎟⋅⎢ ⎥⋅⎜⎣{\\sigma}_z ⎦ + [1  0]⋅P_{k|k-1}⋅⎢ ⎥⎟  \n",
       "    ⎣{\\Delta}t  1⎦⎟ ⎣0⎦ ⎝                                 ⎣0⎦⎠  \n",
       "                  ⎟                                             \n",
       "                  ⎟                                             \n",
       "                  ⎠                                             "
      ]
     },
     "execution_count": 16,
     "metadata": {},
     "output_type": "execute_result"
    }
   ],
   "source": [
    "\"\"\"更新(最適カルマンゲイン)\"\"\"\n",
    "Kk = sympy.MatrixSymbol('K_k', 2, 1)\n",
    "_Kk = _Pk_k1*H.T*_Sk.inverse()\n",
    "sympy.Eq(Kk, _Kk)"
   ]
  },
  {
   "cell_type": "code",
   "execution_count": 17,
   "metadata": {},
   "outputs": [
    {
     "data": {
      "text/latex": [
       "$$\\hat{x}_{k|k} = \\left[\\begin{matrix}\\hat{x}_{k|k-1}\\\\\\hat{\\dot{x}}_{k|k-1}\\end{matrix}\\right] + \\left(\\left[\\begin{matrix}\\frac{{\\Delta}t^{4} {\\sigma}_a^{2}}{4} & \\frac{{\\Delta}t^{3} {\\sigma}_a^{2}}{2}\\\\\\frac{{\\Delta}t^{3} {\\sigma}_a^{2}}{2} & {\\Delta}t^{2} {\\sigma}_a^{2}\\end{matrix}\\right] + \\left[\\begin{matrix}1 & {\\Delta}t\\\\0 & 1\\end{matrix}\\right] P_{k-1|k-1} \\left[\\begin{matrix}1 & 0\\\\{\\Delta}t & 1\\end{matrix}\\right]\\right) \\left[\\begin{matrix}1\\\\0\\end{matrix}\\right] \\left(\\left[\\begin{matrix}{\\sigma}_z^{2}\\end{matrix}\\right] + \\left[\\begin{matrix}1 & 0\\end{matrix}\\right] P_{k|k-1} \\left[\\begin{matrix}1\\\\0\\end{matrix}\\right]\\right)^{-1} \\left[\\begin{matrix}- \\hat{x}_{k|k-1} + z_{k}\\end{matrix}\\right]$$"
      ],
      "text/plain": [
       "                                          ⎛⎡         4          2           3 \n",
       "                                          ⎜⎢{\\Delta}t ⋅{\\sigma}ₐ   {\\Delta}t ⋅\n",
       "                                          ⎜⎢─────────────────────  ───────────\n",
       "                ⎡   \\hat{x}_{k|k-1}   ⎤   ⎜⎢          4                      2\n",
       "\\hat{x}_{k|k} = ⎢                     ⎥ + ⎜⎢                                  \n",
       "                ⎣\\hat{\\dot{x}}_{k|k-1}⎦   ⎜⎢         3          2             \n",
       "                                          ⎜⎢{\\Delta}t ⋅{\\sigma}ₐ            2 \n",
       "                                          ⎜⎢─────────────────────  {\\Delta}t ⋅\n",
       "                                          ⎝⎣          2                       \n",
       "\n",
       "         2⎤                                            ⎞                      \n",
       "{\\sigma}ₐ ⎥                                            ⎟                      \n",
       "──────────⎥                                            ⎟                      \n",
       "          ⎥   ⎡1  {\\Delta}t⎤             ⎡    1      0⎤⎟ ⎡1⎤ ⎛⎡          2⎤   \n",
       "          ⎥ + ⎢            ⎥⋅P_{k-1|k-1}⋅⎢            ⎥⎟⋅⎢ ⎥⋅⎜⎣{\\sigma}_z ⎦ + \n",
       "          ⎥   ⎣0      1    ⎦             ⎣{\\Delta}t  1⎦⎟ ⎣0⎦ ⎝                \n",
       "         2⎥                                            ⎟                      \n",
       "{\\sigma}ₐ ⎥                                            ⎟                      \n",
       "          ⎦                                            ⎠                      \n",
       "\n",
       "                                               \n",
       "                                               \n",
       "                     -1                        \n",
       "                 ⎡1⎤⎞                          \n",
       "[1  0]⋅P_{k|k-1}⋅⎢ ⎥⎟  ⋅[-\\hat{x}_{k|k-1} + zₖ]\n",
       "                 ⎣0⎦⎠                          \n",
       "                                               \n",
       "                                               \n",
       "                                               "
      ]
     },
     "execution_count": 17,
     "metadata": {},
     "output_type": "execute_result"
    }
   ],
   "source": [
    "\"\"\"観測値によるシステム状態の推定値の更新\"\"\"\n",
    "xk_k = sympy.MatrixSymbol('\\hat{x}_{k|k}', 2, 1)\n",
    "_xk_k = _xk_k1 + _Kk*_ek\n",
    "sympy.Eq(xk_k, _xk_k)\n",
    "#sympy.Eq(E(xk-xk_k),0)"
   ]
  },
  {
   "cell_type": "code",
   "execution_count": 21,
   "metadata": {},
   "outputs": [
    {
     "data": {
      "text/latex": [
       "$$P_{k|k} = \\left(\\mathbb{I} - \\left(\\left[\\begin{matrix}\\frac{{\\Delta}t^{4} {\\sigma}_a^{2}}{4} & \\frac{{\\Delta}t^{3} {\\sigma}_a^{2}}{2}\\\\\\frac{{\\Delta}t^{3} {\\sigma}_a^{2}}{2} & {\\Delta}t^{2} {\\sigma}_a^{2}\\end{matrix}\\right] + \\left[\\begin{matrix}1 & {\\Delta}t\\\\0 & 1\\end{matrix}\\right] P_{k-1|k-1} \\left[\\begin{matrix}1 & 0\\\\{\\Delta}t & 1\\end{matrix}\\right]\\right) \\left[\\begin{matrix}1\\\\0\\end{matrix}\\right] \\left(\\left[\\begin{matrix}{\\sigma}_z^{2}\\end{matrix}\\right] + \\left[\\begin{matrix}1 & 0\\end{matrix}\\right] P_{k|k-1} \\left[\\begin{matrix}1\\\\0\\end{matrix}\\right]\\right)^{-1} \\left[\\begin{matrix}1 & 0\\end{matrix}\\right]\\right) P_{k|k-1}$$"
      ],
      "text/plain": [
       "          ⎛   ⎛⎡         4          2           3          2⎤                 \n",
       "          ⎜   ⎜⎢{\\Delta}t ⋅{\\sigma}ₐ   {\\Delta}t ⋅{\\sigma}ₐ ⎥                 \n",
       "          ⎜   ⎜⎢─────────────────────  ─────────────────────⎥                 \n",
       "          ⎜   ⎜⎢          4                      2          ⎥   ⎡1  {\\Delta}t⎤\n",
       "P_{k|k} = ⎜I -⎜⎢                                            ⎥ + ⎢            ⎥\n",
       "          ⎜   ⎜⎢         3          2                       ⎥   ⎣0      1    ⎦\n",
       "          ⎜   ⎜⎢{\\Delta}t ⋅{\\sigma}ₐ            2          2⎥                 \n",
       "          ⎜   ⎜⎢─────────────────────  {\\Delta}t ⋅{\\sigma}ₐ ⎥                 \n",
       "          ⎝   ⎝⎣          2                                 ⎦                 \n",
       "\n",
       "                           ⎞                                                  \n",
       "                           ⎟                                                  \n",
       "                           ⎟                                           -1     \n",
       "             ⎡    1      0⎤⎟ ⎡1⎤ ⎛⎡          2⎤                    ⎡1⎤⎞       \n",
       "⋅P_{k-1|k-1}⋅⎢            ⎥⎟⋅⎢ ⎥⋅⎜⎣{\\sigma}_z ⎦ + [1  0]⋅P_{k|k-1}⋅⎢ ⎥⎟  ⋅[1  \n",
       "             ⎣{\\Delta}t  1⎦⎟ ⎣0⎦ ⎝                                 ⎣0⎦⎠       \n",
       "                           ⎟                                                  \n",
       "                           ⎟                                                  \n",
       "                           ⎠                                                  \n",
       "\n",
       "  ⎞          \n",
       "  ⎟          \n",
       "  ⎟          \n",
       "  ⎟          \n",
       "0]⎟⋅P_{k|k-1}\n",
       "  ⎟          \n",
       "  ⎟          \n",
       "  ⎟          \n",
       "  ⎠          "
      ]
     },
     "execution_count": 21,
     "metadata": {},
     "output_type": "execute_result"
    }
   ],
   "source": [
    "\"\"\"観測値によるシステム状態の推定値の精度の更新\"\"\"\n",
    "Pk_k = sympy.MatrixSymbol('P_{k|k}', 2, 2)\n",
    "\n",
    "\n",
    "sympy.Eq(Pk_k, (sympy.Identity(2)-_Kk*H)*Pk_k1)\n",
    "#sympy.Eq(Pk_k,cov(xk-xk_k)*sympy.Identity(n))"
   ]
  }
 ],
 "metadata": {
  "kernelspec": {
   "display_name": "Python 3 (ipykernel)",
   "language": "python",
   "name": "python3"
  },
  "language_info": {
   "codemirror_mode": {
    "name": "ipython",
    "version": 3
   },
   "file_extension": ".py",
   "mimetype": "text/x-python",
   "name": "python",
   "nbconvert_exporter": "python",
   "pygments_lexer": "ipython3",
   "version": "3.9.7"
  }
 },
 "nbformat": 4,
 "nbformat_minor": 2
}

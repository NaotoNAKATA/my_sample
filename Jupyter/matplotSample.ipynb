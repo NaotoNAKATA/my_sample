{
 "cells": [
  {
   "cell_type": "code",
   "execution_count": 3,
   "metadata": {},
   "outputs": [],
   "source": [
    "import matplotlib.pyplot as plt\n",
    "import numpy as np\n",
    "\n",
    "import matplotlib.patches as patches\n",
    "\n",
    "\n",
    "x = np.linspace(-2*np.pi, 2*np.pi, num=100)\n",
    "y = np.cos(x)\n",
    "\n",
    "fig = plt.figure()\n",
    "ax = fig.add_subplot(1,1,1)\n",
    "\n",
    "ax.plot(x, y, label='cos(x)')\n",
    "#ax.plot(x, y, label=r'$\\frac{1}{2}$')\n",
    "\n",
    "y = np.sin(x)\n",
    "ax.plot(x, y, label='sin(x)')\n",
    "\n",
    "c = patches.Circle(xy=(0,0),radius=1.0,fill=True)\n",
    "ax.add_patch(c)\n",
    "\n",
    "ax.set_xlim(-10, 10)\n",
    "ax.set_ylim(-1.5,1.5)\n",
    "ax.legend(loc='upper right')\n",
    "#fig.legend(loc='upper right')\n",
    "ax.grid(b=True,which='major')\n",
    "\n",
    "fig.savefig('sample.png')\n"
   ]
  }
 ],
 "metadata": {
  "kernelspec": {
   "display_name": "Python 3 (ipykernel)",
   "language": "python",
   "name": "python3"
  },
  "language_info": {
   "codemirror_mode": {
    "name": "ipython",
    "version": 3
   },
   "file_extension": ".py",
   "mimetype": "text/x-python",
   "name": "python",
   "nbconvert_exporter": "python",
   "pygments_lexer": "ipython3",
   "version": "3.9.7"
  }
 },
 "nbformat": 4,
 "nbformat_minor": 2
}

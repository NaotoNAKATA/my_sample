{
 "cells": [
  {
   "cell_type": "code",
   "execution_count": 1,
   "metadata": {},
   "outputs": [],
   "source": [
    "import networkx as nx\n"
   ]
  },
  {
   "cell_type": "code",
   "execution_count": 2,
   "metadata": {},
   "outputs": [],
   "source": [
    "import sys\n"
   ]
  },
  {
   "cell_type": "code",
   "execution_count": 3,
   "metadata": {},
   "outputs": [],
   "source": [
    "# 有向グラフ\n",
    "G = nx.DiGraph()\n"
   ]
  },
  {
   "cell_type": "code",
   "execution_count": 4,
   "metadata": {},
   "outputs": [],
   "source": [
    "# 頂点の追加\n",
    "G.add_node(1)                \n",
    "G.add_nodes_from([3, 4, 5])\n",
    "\n",
    "# 辺の追加\n",
    "G.add_edge(1, 2)                                    \n",
    "G.add_edges_from([(1, 3), (2, 5), (3, 4), (4, 5)])\n"
   ]
  },
  {
   "cell_type": "code",
   "execution_count": 5,
   "metadata": {},
   "outputs": [],
   "source": [
    "G.add_node('テスト')\n",
    "G.add_node('test')\n",
    "G.add_edge('テスト','test')\n"
   ]
  },
  {
   "cell_type": "code",
   "execution_count": 6,
   "metadata": {},
   "outputs": [],
   "source": [
    "# 描画\n",
    "import matplotlib.pyplot as plt\n",
    "\n",
    "nx.draw_networkx(G)\n",
    "\n",
    "plt.axis('off')\n",
    "\n",
    "\n",
    "plt.savefig('Story.png')\n"
   ]
  }
 ],
 "metadata": {
  "kernelspec": {
   "display_name": "Python 3",
   "language": "python",
   "name": "python3"
  },
  "language_info": {
   "codemirror_mode": {
    "name": "ipython",
    "version": 3
   },
   "file_extension": ".py",
   "mimetype": "text/x-python",
   "name": "python",
   "nbconvert_exporter": "python",
   "pygments_lexer": "ipython3",
   "version": "3.6.2"
  }
 },
 "nbformat": 4,
 "nbformat_minor": 2
}

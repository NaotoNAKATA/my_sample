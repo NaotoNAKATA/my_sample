{
 "cells": [
  {
   "cell_type": "code",
   "execution_count": 1,
   "metadata": {},
   "outputs": [],
   "source": [
    "import sympy\n",
    "sympy.init_printing()"
   ]
  },
  {
   "cell_type": "code",
   "execution_count": 2,
   "metadata": {},
   "outputs": [],
   "source": [
    "x,y,t = sympy.symbols('x y theta',real=True)\n",
    "x_, y_ = sympy.symbols('x\\' y\\'', real=True)\n",
    "x0, y0 = sympy.symbols('x_0 y_0', real=True)\n",
    "\n",
    "X2 = sympy.Matrix([x,y])\n",
    "X2_ = sympy.Matrix([x_,y_])\n",
    "\n",
    "a = sympy.symbols('a',real=True)\n",
    "X3 = sympy.Matrix([x,y,1])\n",
    "X3_ = sympy.Matrix([x_,y_,a])\n",
    "\n",
    "X0 = sympy.Matrix([x0,y0,0])\n"
   ]
  },
  {
   "cell_type": "code",
   "execution_count": 3,
   "metadata": {},
   "outputs": [
    {
     "data": {
      "image/png": "[encoded data removed]",
      "text/latex": [
       "$$\\left ( x' = x \\cos{\\left (\\theta \\right )} - y \\sin{\\left (\\theta \\right )}, \\quad y' = x \\sin{\\left (\\theta \\right )} + y \\cos{\\left (\\theta \\right )}\\right )$$"
      ],
      "text/plain": [
       "(x' = x⋅cos(θ) - y⋅sin(θ), y' = x⋅sin(θ) + y⋅cos(θ))"
      ]
     },
     "execution_count": 3,
     "metadata": {},
     "output_type": "execute_result"
    }
   ],
   "source": [
    "# 回転(複素数)\n",
    "z = (x+sympy.I*y)*(sympy.cos(t) + sympy.I*sympy.sin(t))\n",
    "\n",
    "sympy.Eq(x_, sympy.re(z)),\\\n",
    "sympy.Eq(y_, sympy.im(z))\n"
   ]
  },
  {
   "cell_type": "code",
   "execution_count": 4,
   "metadata": {},
   "outputs": [
    {
     "data": {
      "text/latex": [
       "$$\\left[\\begin{matrix}x'\\\\y'\\end{matrix}\\right] = \\left[\\begin{matrix}x \\cos{\\left (\\theta \\right )} - y \\sin{\\left (\\theta \\right )}\\\\x \\sin{\\left (\\theta \\right )} + y \\cos{\\left (\\theta \\right )}\\end{matrix}\\right]$$"
      ],
      "text/plain": [
       "⎡x'⎤   ⎡x⋅cos(θ) - y⋅sin(θ)⎤\n",
       "⎢  ⎥ = ⎢                   ⎥\n",
       "⎣y'⎦   ⎣x⋅sin(θ) + y⋅cos(θ)⎦"
      ]
     },
     "execution_count": 4,
     "metadata": {},
     "output_type": "execute_result"
    }
   ],
   "source": [
    "# ベクトルで表記\n",
    "A2 = sympy.Matrix([\n",
    "    [sympy.cos(t),-sympy.sin(t)],\n",
    "    [sympy.sin(t), sympy.cos(t)]])\n",
    "\n",
    "sympy.Eq(X2_, A2*X2)\n"
   ]
  },
  {
   "cell_type": "code",
   "execution_count": 5,
   "metadata": {
    "scrolled": true
   },
   "outputs": [
    {
     "data": {
      "text/latex": [
       "$$\\left[\\begin{matrix}\\cos{\\left (\\theta \\right )} & - \\sin{\\left (\\theta \\right )} & x_{0}\\\\\\sin{\\left (\\theta \\right )} & \\cos{\\left (\\theta \\right )} & y_{0}\\\\0 & 0 & 1\\end{matrix}\\right]$$"
      ],
      "text/plain": [
       "⎡cos(θ)  -sin(θ)  x₀⎤\n",
       "⎢                   ⎥\n",
       "⎢sin(θ)  cos(θ)   y₀⎥\n",
       "⎢                   ⎥\n",
       "⎣  0        0     1 ⎦"
      ]
     },
     "execution_count": 5,
     "metadata": {},
     "output_type": "execute_result"
    }
   ],
   "source": [
    "# 回転してから平行移動\n",
    "A3 = sympy.Matrix([\n",
    "    [sympy.cos(t),-sympy.sin(t),x0],\n",
    "    [sympy.sin(t), sympy.cos(t),y0],\n",
    "    [0,0,1]])\n",
    "\n",
    "sympy.Eq(X3_, A3*X3)\n",
    "A3"
   ]
  },
  {
   "cell_type": "code",
   "execution_count": 6,
   "metadata": {},
   "outputs": [],
   "source": [
    "# 座標変換\n",
    "# x,y:元の座標系での位置\n",
    "# x',y':θだけ回転した座標系からみたx,yの位置\n",
    "# x0,y0:元の座標系からみた、変換後の原点の位置\n"
   ]
  },
  {
   "cell_type": "code",
   "execution_count": 7,
   "metadata": {},
   "outputs": [
    {
     "data": {
      "image/png": "[encoded data removed]",
      "text/latex": [
       "$$\\left ( x \\cos{\\left (\\theta \\right )} + y \\sin{\\left (\\theta \\right )}, \\quad \\left(- x \\tan{\\left (\\theta \\right )} + y\\right) \\cos{\\left (\\theta \\right )}\\right )$$"
      ],
      "text/plain": [
       "(x⋅cos(θ) + y⋅sin(θ), (-x⋅tan(θ) + y)⋅cos(θ))"
      ]
     },
     "execution_count": 7,
     "metadata": {},
     "output_type": "execute_result"
    }
   ],
   "source": [
    "# 相似を利用\n",
    "# 三角形1\n",
    "a1 = x\n",
    "b1 = x/sympy.cos(t)\n",
    "c1 = x*sympy.tan(t)\n",
    "\n",
    "# 三角形2\n",
    "a2 = y_\n",
    "b2 = y-x*sympy.tan(t)\n",
    "c2 = x_-x/sympy.cos(t)\n",
    "\n",
    "eq0 = sympy.Eq(a1/a2, b1/b2)\n",
    "eq1 = sympy.Eq(b1/b2, c1/c2)\n",
    "\n",
    "sympy.solve(eq1,x_)[0],sympy.solve(eq0,y_)[0].trigsimp()\n"
   ]
  },
  {
   "cell_type": "code",
   "execution_count": 8,
   "metadata": {},
   "outputs": [
    {
     "data": {
      "text/latex": [
       "$$\\left[\\begin{matrix}x'\\\\y'\\\\a\\end{matrix}\\right] = \\left[\\begin{matrix}x \\cos{\\left (\\theta \\right )} + y \\sin{\\left (\\theta \\right )}\\\\- x \\sin{\\left (\\theta \\right )} + y \\cos{\\left (\\theta \\right )}\\\\1\\end{matrix}\\right]$$"
      ],
      "text/plain": [
       "⎡x'⎤   ⎡x⋅cos(θ) + y⋅sin(θ) ⎤\n",
       "⎢  ⎥   ⎢                    ⎥\n",
       "⎢y'⎥ = ⎢-x⋅sin(θ) + y⋅cos(θ)⎥\n",
       "⎢  ⎥   ⎢                    ⎥\n",
       "⎣a ⎦   ⎣         1          ⎦"
      ]
     },
     "execution_count": 8,
     "metadata": {},
     "output_type": "execute_result"
    }
   ],
   "source": [
    "# ベクトルで表記\n",
    "B3 = sympy.Matrix([\n",
    "    [sympy.cos(t), sympy.sin(t),0],\n",
    "    [-sympy.sin(t),sympy.cos(t),0],\n",
    "    [0,0,1]],)\n",
    "\n",
    "sympy.Eq(X3_, B3*X3)\n"
   ]
  },
  {
   "cell_type": "code",
   "execution_count": 9,
   "metadata": {},
   "outputs": [
    {
     "data": {
      "text/latex": [
       "$$\\left ( \\left[\\begin{matrix}x'\\\\y'\\\\a\\end{matrix}\\right] = \\left[\\begin{matrix}x - x_{0}\\\\y - y_{0}\\\\1\\end{matrix}\\right], \\quad \\left[\\begin{matrix}x'\\\\y'\\\\a\\end{matrix}\\right] = \\left[\\begin{matrix}x - x_{0}\\\\y - y_{0}\\\\1\\end{matrix}\\right]\\right )$$"
      ],
      "text/plain": [
       "⎛⎡x'⎤   ⎡x - x₀⎤  ⎡x'⎤   ⎡x - x₀⎤⎞\n",
       "⎜⎢  ⎥   ⎢      ⎥  ⎢  ⎥   ⎢      ⎥⎟\n",
       "⎜⎢y'⎥ = ⎢y - y₀⎥, ⎢y'⎥ = ⎢y - y₀⎥⎟\n",
       "⎜⎢  ⎥   ⎢      ⎥  ⎢  ⎥   ⎢      ⎥⎟\n",
       "⎝⎣a ⎦   ⎣  1   ⎦  ⎣a ⎦   ⎣  1   ⎦⎠"
      ]
     },
     "execution_count": 9,
     "metadata": {},
     "output_type": "execute_result"
    }
   ],
   "source": [
    "# 座標変換(平行移動)\n",
    "C3 = sympy.Matrix([\n",
    "    [1,0,-x0],\n",
    "    [0,1,-y0],\n",
    "    [0,0,1]])\n",
    "\n",
    "sympy.Eq(X3_, X3-X0),\\\n",
    "sympy.Eq(X3_, C3*X3)\n"
   ]
  },
  {
   "cell_type": "code",
   "execution_count": 10,
   "metadata": {},
   "outputs": [
    {
     "data": {
      "text/latex": [
       "$$\\left[\\begin{matrix}\\cos{\\left (\\theta \\right )} & \\sin{\\left (\\theta \\right )} & - x_{0} \\cos{\\left (\\theta \\right )} - y_{0} \\sin{\\left (\\theta \\right )}\\\\- \\sin{\\left (\\theta \\right )} & \\cos{\\left (\\theta \\right )} & x_{0} \\sin{\\left (\\theta \\right )} - y_{0} \\cos{\\left (\\theta \\right )}\\\\0 & 0 & 1\\end{matrix}\\right]$$"
      ],
      "text/plain": [
       "⎡cos(θ)   sin(θ)  -x₀⋅cos(θ) - y₀⋅sin(θ)⎤\n",
       "⎢                                       ⎥\n",
       "⎢-sin(θ)  cos(θ)  x₀⋅sin(θ) - y₀⋅cos(θ) ⎥\n",
       "⎢                                       ⎥\n",
       "⎣   0       0               1           ⎦"
      ]
     },
     "execution_count": 10,
     "metadata": {},
     "output_type": "execute_result"
    }
   ],
   "source": [
    "# 座標変換(平行移動してから回転)\n",
    "# D3 x-y座標系からx'-y'座標系への変換行列\n",
    "D3 = B3*C3\n",
    "sympy.Eq(X3_,D3*X3)\n",
    "D3"
   ]
  },
  {
   "cell_type": "code",
   "execution_count": 18,
   "metadata": {},
   "outputs": [
    {
     "data": {
      "text/latex": [
       "$$\\left[\\begin{matrix}\\cos{\\left (\\theta \\right )} & - \\sin{\\left (\\theta \\right )} & x_{0}\\\\\\sin{\\left (\\theta \\right )} & \\cos{\\left (\\theta \\right )} & y_{0}\\\\0 & 0 & 1\\end{matrix}\\right]$$"
      ],
      "text/plain": [
       "⎡cos(θ)  -sin(θ)  x₀⎤\n",
       "⎢                   ⎥\n",
       "⎢sin(θ)  cos(θ)   y₀⎥\n",
       "⎢                   ⎥\n",
       "⎣  0        0     1 ⎦"
      ]
     },
     "execution_count": 18,
     "metadata": {},
     "output_type": "execute_result"
    }
   ],
   "source": [
    "# D3^-1 x'-y'座標系からx-y座標系への変換行列\n",
    "D3_=D3.inverse_ADJ()\n",
    "sympy.trigsimp(D3_.expand())\n"
   ]
  },
  {
   "cell_type": "code",
   "execution_count": null,
   "metadata": {},
   "outputs": [],
   "source": [
    "# x-y座標系:元の座標系\n",
    "# x'-y'座標系:元の座標系を(x0,y0)だけ平行移動し、\n",
    "#           θだけ回転した座標系\n",
    "\n",
    "# x'-y'座標系からx-y座標系への変換行列\n",
    "# ＝\n",
    "# 点(x,y)をθだけ回転してから、\n",
    "# (x0,y0)平行移動させる行列\n"
   ]
  }
 ],
 "metadata": {
  "kernelspec": {
   "display_name": "Python 3",
   "language": "python",
   "name": "python3"
  },
  "language_info": {
   "codemirror_mode": {
    "name": "ipython",
    "version": 3
   },
   "file_extension": ".py",
   "mimetype": "text/x-python",
   "name": "python",
   "nbconvert_exporter": "python",
   "pygments_lexer": "ipython3",
   "version": "3.6.2"
  }
 },
 "nbformat": 4,
 "nbformat_minor": 2
}

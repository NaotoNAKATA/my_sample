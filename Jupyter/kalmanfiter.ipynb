{
 "cells": [
  {
   "cell_type": "code",
   "execution_count": 1,
   "metadata": {},
   "outputs": [],
   "source": [
    "\"\"\"カルマンフィルター\"\"\"\n",
    "import sympy\n",
    "sympy.init_printing()"
   ]
  },
  {
   "cell_type": "code",
   "execution_count": 2,
   "metadata": {},
   "outputs": [
    {
     "data": {
      "text/latex": [
       "$$\\boldsymbol{x}_{k} = F_{k} \\boldsymbol{x}_{k - 1} + \\boldsymbol{u}_{k}$$"
      ],
      "text/plain": [
       "xbmₖ = Fₖ⋅xbmₖ ₋ ₁ + ubmₖ"
      ]
     },
     "execution_count": 2,
     "metadata": {},
     "output_type": "execute_result"
    }
   ],
   "source": [
    "\"\"\"システムの状態遷移(雑音なし)\"\"\"\n",
    "# システム状態n×1行列\n",
    "n = sympy.symbols('n', integer=True)\n",
    "\n",
    "# 時刻kにおける、真のシステム状態xk\n",
    "xk = sympy.MatrixSymbol('xbm_k', n, 1)\n",
    "xk1 = sympy.MatrixSymbol('xbm_k_-_1', n, 1)\n",
    "\n",
    "# システムの時間遷移に関する線形モデル\n",
    "Fk = sympy.MatrixSymbol('F_k', n, n)\n",
    "\n",
    "# 制御入力\n",
    "uk = sympy.MatrixSymbol('ubm_k', n, 1)\n",
    "\n",
    "# システムの状態遷移(雑音なし)\n",
    "sympy.Eq(xk,Fk*xk1 + uk)"
   ]
  },
  {
   "cell_type": "code",
   "execution_count": 3,
   "metadata": {},
   "outputs": [
    {
     "data": {
      "text/latex": [
       "$$\\left ( \\boldsymbol{w}_{k}, \\quad N{\\left (0,Q_{k} \\right )}\\right )$$"
      ],
      "text/plain": [
       "(wbmₖ, N(0, Qₖ))"
      ]
     },
     "execution_count": 3,
     "metadata": {},
     "output_type": "execute_result"
    }
   ],
   "source": [
    "\"\"\"システムの雑音\"\"\"\n",
    "# 時間遷移に関する雑音(process noise)モデルの行列\n",
    "# 及びその雑音l×1行列\n",
    "l = sympy.symbols('l', integer=True)\n",
    "Gk = sympy.MatrixSymbol('G_k', n, l)\n",
    "wk = sympy.MatrixSymbol('wbm_k', l, 1)\n",
    "\n",
    "# 雑音は共分散行列Qkかつ零平均の多変数正規分布に従う。\n",
    "Qk = sympy.MatrixSymbol('Q_k', l, l)\n",
    "wk,sympy.Function('N')(0,Qk)"
   ]
  },
  {
   "cell_type": "code",
   "execution_count": 4,
   "metadata": {},
   "outputs": [
    {
     "data": {
      "text/latex": [
       "$$\\boldsymbol{x}_{k} = F_{k} \\boldsymbol{x}_{k - 1} + G_{k} \\boldsymbol{w}_{k} + \\boldsymbol{u}_{k}$$"
      ],
      "text/plain": [
       "xbmₖ = Fₖ⋅xbmₖ ₋ ₁ + Gₖ⋅wbmₖ + ubmₖ"
      ]
     },
     "execution_count": 4,
     "metadata": {},
     "output_type": "execute_result"
    }
   ],
   "source": [
    "\"\"\"システムの状態遷移(雑音あり)\"\"\"\n",
    "sympy.Eq(xk,Fk*xk1 + uk + Gk*wk)"
   ]
  },
  {
   "cell_type": "code",
   "execution_count": 5,
   "metadata": {},
   "outputs": [
    {
     "data": {
      "text/latex": [
       "$$\\boldsymbol{z}_{k} = H_{k} \\boldsymbol{x}_{k}$$"
      ],
      "text/plain": [
       "zbmₖ = Hₖ⋅xbmₖ"
      ]
     },
     "execution_count": 5,
     "metadata": {},
     "output_type": "execute_result"
    }
   ],
   "source": [
    "\"\"\"観測方程式(雑音なし)\"\"\"\n",
    "# 観測量m×1行列\n",
    "m = sympy.symbols('m', integer=True)\n",
    "\n",
    "# ある時刻kにおける観測量\n",
    "zk = sympy.MatrixSymbol('zbm_k', m, 1)\n",
    "\n",
    "# 状態空間を観測空間に線形写像する\n",
    "# 役割を担う観測モデル\n",
    "Hk = sympy.MatrixSymbol('H_k', m, n)\n",
    "\n",
    "# 観測方程式(雑音なし)\n",
    "sympy.Eq(zk, Hk*xk)"
   ]
  },
  {
   "cell_type": "code",
   "execution_count": 6,
   "metadata": {},
   "outputs": [
    {
     "data": {
      "text/latex": [
       "$$\\left ( \\boldsymbol{v}_{k}, \\quad N{\\left (0,R_{k} \\right )}\\right )$$"
      ],
      "text/plain": [
       "(vbmₖ, N(0, Rₖ))"
      ]
     },
     "execution_count": 6,
     "metadata": {},
     "output_type": "execute_result"
    }
   ],
   "source": [
    "\"\"\"観測の雑音\"\"\"\n",
    "# 観測雑音m×1行列\n",
    "vk = sympy.MatrixSymbol('vbm_k', m, 1)\n",
    "\n",
    "# 雑音は共分散行列Rkかつ零平均の多変数正規分布に従う。\n",
    "Rk = sympy.MatrixSymbol('R_k', m, m)\n",
    "vk,sympy.Function('N')(0,Rk)"
   ]
  },
  {
   "cell_type": "code",
   "execution_count": 7,
   "metadata": {},
   "outputs": [
    {
     "data": {
      "text/latex": [
       "$$\\boldsymbol{z}_{k} = H_{k} \\boldsymbol{x}_{k} + \\boldsymbol{v}_{k}$$"
      ],
      "text/plain": [
       "zbmₖ = Hₖ⋅xbmₖ + vbmₖ"
      ]
     },
     "execution_count": 7,
     "metadata": {},
     "output_type": "execute_result"
    }
   ],
   "source": [
    "\"\"\"観測方程式(雑音あり)\"\"\"\n",
    "sympy.Eq(zk, Hk*xk + vk)"
   ]
  },
  {
   "cell_type": "code",
   "execution_count": 8,
   "metadata": {},
   "outputs": [],
   "source": [
    "# システムの初期条件と雑音は、互いに統計的に独立であると仮定する。"
   ]
  },
  {
   "cell_type": "code",
   "execution_count": 9,
   "metadata": {},
   "outputs": [],
   "source": [
    "\"\"\"不偏量\"\"\"\n",
    "# 期待値\n",
    "E = sympy.Function('E')\n",
    "\n",
    "# 共分散\n",
    "cov = sympy.Function('cov')"
   ]
  },
  {
   "cell_type": "code",
   "execution_count": 10,
   "metadata": {},
   "outputs": [
    {
     "data": {
      "text/latex": [
       "$$\\left ( \\hat{x}_{k|k-1} = F_{k} \\hat{x}_{k-1|k-1} + \\boldsymbol{u}_{k}, \\quad E{\\left (-\\hat{x}_{k|k-1} + \\boldsymbol{x}_{k} \\right )} = 0\\right )$$"
      ],
      "text/plain": [
       "(\\hat{x}_{k|k-1} = Fₖ⋅\\hat{x}_{k-1|k-1} + ubmₖ, E(-\\hat{x}_{k|k-1} + xbmₖ) = 0\n",
       ")"
      ]
     },
     "execution_count": 10,
     "metadata": {},
     "output_type": "execute_result"
    }
   ],
   "source": [
    "\"\"\"予測(システム状態の推定値)\"\"\"\n",
    "# 時刻k-1で推定したシステム状態の推定値\n",
    "xk1_k1 = sympy.MatrixSymbol('\\hat{x}_{k-1|k-1}', n, 1)\n",
    "\n",
    "# 時刻k-1の推定値から予測した、時刻kのシステム状態の推定値\n",
    "xk_k1 = sympy.MatrixSymbol('\\hat{x}_{k|k-1}', n, 1)\n",
    "sympy.Eq(xk_k1,Fk*xk1_k1 + uk),\\\n",
    "sympy.Eq(E(xk-xk_k1),0)"
   ]
  },
  {
   "cell_type": "code",
   "execution_count": 11,
   "metadata": {},
   "outputs": [
    {
     "data": {
      "text/latex": [
       "$$\\left ( P_{k|k-1} = F_{k} P_{k-1|k-1} F_{k}^T + G_{k} Q_{k} G_{k}^T, \\quad P_{k|k-1} = \\operatorname{cov}{\\left (-\\hat{x}_{k|k-1} + \\boldsymbol{x}_{k} \\right )} \\mathbb{I}\\right )$$"
      ],
      "text/plain": [
       "⎛                             T           T                                   \n",
       "⎝P_{k|k-1} = Fₖ⋅P_{k-1|k-1}⋅Fₖ  + Gₖ⋅Qₖ⋅Gₖ , P_{k|k-1} = cov(-\\hat{x}_{k|k-1} \n",
       "\n",
       "         ⎞\n",
       "+ xbmₖ)⋅I⎠"
      ]
     },
     "execution_count": 11,
     "metadata": {},
     "output_type": "execute_result"
    }
   ],
   "source": [
    "\"\"\"予測(システム状態の推定値の精度)\"\"\"\n",
    "# システム状態の誤差の共分散行列(推定値の精度)\n",
    "# 時刻k-1で推定したシステム状態の推定値の精度\n",
    "Pk1_k1 = sympy.MatrixSymbol('P_{k-1|k-1}', n, n)\n",
    "\n",
    "# システムモデルと時刻k-1の精度から予測される、時刻kでのシステム状態の精度\n",
    "Pk_k1 = sympy.MatrixSymbol('P_{k|k-1}', n, n)\n",
    "sympy.Eq(Pk_k1,Fk*Pk1_k1*Fk.T + Gk*Qk*Gk.T),\\\n",
    "sympy.Eq(Pk_k1,cov(xk-xk_k1)*sympy.Identity(n))"
   ]
  },
  {
   "cell_type": "code",
   "execution_count": 12,
   "metadata": {},
   "outputs": [
    {
     "data": {
      "text/latex": [
       "$$\\left ( \\boldsymbol{e}_{k} = -H_{k} \\hat{x}_{k|k-1} + \\boldsymbol{z}_{k}, \\quad E{\\left (\\boldsymbol{e}_{k} \\right )} = 0\\right )$$"
      ],
      "text/plain": [
       "(ebmₖ = -Hₖ⋅\\hat{x}_{k|k-1} + zbmₖ, E(ebmₖ) = 0)"
      ]
     },
     "execution_count": 12,
     "metadata": {},
     "output_type": "execute_result"
    }
   ],
   "source": [
    "\"\"\"更新(観測残差,innovation)\"\"\"\n",
    "# 観測値と、予測したシステム状態の推定値から\n",
    "# 計算した予測観測値との差\n",
    "ek = sympy.MatrixSymbol('ebm_k', m, 1)\n",
    "sympy.Eq(ek,zk-Hk*xk_k1),\\\n",
    "sympy.Eq(E(ek),0)"
   ]
  },
  {
   "cell_type": "code",
   "execution_count": 13,
   "metadata": {},
   "outputs": [
    {
     "data": {
      "text/latex": [
       "$$\\left ( S_{k} = H_{k} P_{k|k-1} H_{k}^T + R_{k}, \\quad S_{k} = \\operatorname{cov}{\\left (\\boldsymbol{e}_{k} \\right )} \\mathbb{I}\\right )$$"
      ],
      "text/plain": [
       "⎛                    T                       ⎞\n",
       "⎝Sₖ = Hₖ⋅P_{k|k-1}⋅Hₖ  + Rₖ, Sₖ = cov(ebmₖ)⋅I⎠"
      ]
     },
     "execution_count": 13,
     "metadata": {},
     "output_type": "execute_result"
    }
   ],
   "source": [
    "\"\"\"更新(観測残差の共分散)\"\"\"\n",
    "Sk = sympy.MatrixSymbol('S_k', m, m)\n",
    "sympy.Eq(Sk,Rk+Hk*Pk_k1*Hk.T),\\\n",
    "sympy.Eq(Sk,cov(ek)*sympy.Identity(m))"
   ]
  },
  {
   "cell_type": "code",
   "execution_count": 14,
   "metadata": {},
   "outputs": [
    {
     "data": {
      "image/png": "[encoded data removed]",
      "text/latex": [
       "$$K_{k} = P_{k|k-1} H_{k}^T S_{k}^{-1}$$"
      ],
      "text/plain": [
       "                 T   -1\n",
       "Kₖ = P_{k|k-1}⋅Hₖ ⋅Sₖ  "
      ]
     },
     "execution_count": 14,
     "metadata": {},
     "output_type": "execute_result"
    }
   ],
   "source": [
    "\"\"\"更新(最適カルマンゲイン)\"\"\"\n",
    "Kk = sympy.MatrixSymbol('K_k', n, m)\n",
    "sympy.Eq(Kk, Pk_k1*Hk.T*Sk.inverse())"
   ]
  },
  {
   "cell_type": "code",
   "execution_count": 15,
   "metadata": {},
   "outputs": [
    {
     "data": {
      "text/latex": [
       "$$\\left ( \\hat{x}_{k|k} = K_{k} \\boldsymbol{e}_{k} + \\hat{x}_{k|k-1}, \\quad E{\\left (-\\hat{x}_{k|k} + \\boldsymbol{x}_{k} \\right )} = 0\\right )$$"
      ],
      "text/plain": [
       "(\\hat{x}_{k|k} = Kₖ⋅ebmₖ + \\hat{x}_{k|k-1}, E(-\\hat{x}_{k|k} + xbmₖ) = 0)"
      ]
     },
     "execution_count": 15,
     "metadata": {},
     "output_type": "execute_result"
    }
   ],
   "source": [
    "\"\"\"観測値によるシステム状態の推定値の更新\"\"\"\n",
    "xk_k = sympy.MatrixSymbol('\\hat{x}_{k|k}', n, 1)\n",
    "sympy.Eq(xk_k, xk_k1 + Kk*ek),\\\n",
    "sympy.Eq(E(xk-xk_k),0)"
   ]
  },
  {
   "cell_type": "code",
   "execution_count": 16,
   "metadata": {
    "scrolled": true
   },
   "outputs": [
    {
     "data": {
      "text/latex": [
       "$$\\left ( P_{k|k} = \\left(\\mathbb{I} - K_{k} H_{k}\\right) P_{k|k-1}, \\quad P_{k|k} = \\operatorname{cov}{\\left (-\\hat{x}_{k|k} + \\boldsymbol{x}_{k} \\right )} \\mathbb{I}\\right )$$"
      ],
      "text/plain": [
       "(P_{k|k} = (I -Kₖ⋅Hₖ)⋅P_{k|k-1}, P_{k|k} = cov(-\\hat{x}_{k|k} + xbmₖ)⋅I)"
      ]
     },
     "execution_count": 16,
     "metadata": {},
     "output_type": "execute_result"
    }
   ],
   "source": [
    "\"\"\"観測値によるシステム状態の推定値の精度の更新\"\"\"\n",
    "Pk_k = sympy.MatrixSymbol('P_{k|k}', n, n)\n",
    "sympy.Eq(Pk_k, (sympy.Identity(n)-Kk*Hk)*Pk_k1),\\\n",
    "sympy.Eq(Pk_k,cov(xk-xk_k)*sympy.Identity(n))"
   ]
  }
 ],
 "metadata": {
  "kernelspec": {
   "display_name": "Python 3 (ipykernel)",
   "language": "python",
   "name": "python3"
  },
  "language_info": {
   "codemirror_mode": {
    "name": "ipython",
    "version": 3
   },
   "file_extension": ".py",
   "mimetype": "text/x-python",
   "name": "python",
   "nbconvert_exporter": "python",
   "pygments_lexer": "ipython3",
   "version": "3.9.7"
  }
 },
 "nbformat": 4,
 "nbformat_minor": 2
}

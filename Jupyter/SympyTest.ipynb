{
 "cells": [
  {
   "cell_type": "code",
   "execution_count": 72,
   "metadata": {},
   "outputs": [],
   "source": [
    "# エイリアスを付けてインポート(一般的ではない。勉強するので、何のモジュールか明確にするため。)\n",
    "import sympy as sy\n",
    "\n",
    "# 変数、関数の設定\n",
    "if False:\n",
    "    x = sy.Symbol('x')\n",
    "    y = sy.Symbol('y')\n",
    "    z = sy.Symbol('z')\n",
    "    t = sy.Symbol('t')\n",
    "    sy.init_printing()\n",
    "elif True:\n",
    "    x, y, z, t = sy.symbols('x y z t')\n",
    "    k, m, n = sy.symbols('k m n', integer=True)\n",
    "    f, g, h = sy.symbols('f g h', cls=sy.Function)\n",
    "    sy.init_printing()\n",
    "elif False:\n",
    "    from sympy.abc import x, y, z, t\n",
    "else:\n",
    "    sy.init_session()\n",
    "\n",
    "theta = sy.Symbol('θ')\n",
    "0"
   ]
  },
  {
   "cell_type": "code",
   "execution_count": 2,
   "metadata": {},
   "outputs": [
    {
     "data": {
      "image/png": "[encoded data removed]",
      "text/latex": [
       "$$2 x + \\left(2 x + y\\right)^{2} + \\frac{\\pi}{3} + \\frac{e^{i x}}{y}$$"
      ],
      "text/plain": [
       "                        ⅈ⋅x\n",
       "               2   π   ℯ   \n",
       "2⋅x + (2⋅x + y)  + ─ + ────\n",
       "                   3    y  "
      ]
     },
     "execution_count": 2,
     "metadata": {},
     "output_type": "execute_result"
    }
   ],
   "source": [
    "# 動作確認\n",
    "sy.Rational(1,3)*sy.pi + x*2 +(x*2+y)**2+ sy.exp(sy.I*x)/y"
   ]
  },
  {
   "cell_type": "code",
   "execution_count": 3,
   "metadata": {},
   "outputs": [
    {
     "data": {
      "image/png": "[encoded data removed]",
      "text/latex": [
       "$$\\left ( x^{2} + 2 x + 1, \\quad \\left(x + 1\\right)^{2}, \\quad x^{2} + 2 x + 1, \\quad x^{2} + 2 x + 1, \\quad \\left [ -1\\right ]\\right )$$"
      ],
      "text/plain": [
       "⎛ 2                   2   2             2                ⎞\n",
       "⎝x  + 2⋅x + 1, (x + 1) , x  + 2⋅x + 1, x  + 2⋅x + 1, [-1]⎠"
      ]
     },
     "execution_count": 3,
     "metadata": {},
     "output_type": "execute_result"
    }
   ],
   "source": [
    "f = x+(x+1)+x**2\n",
    "g = (x+1)**2\n",
    "f,g,sy.simplify(f),sy.ratsimp(g),sy.solve(f)\n"
   ]
  },
  {
   "cell_type": "code",
   "execution_count": 4,
   "metadata": {
    "scrolled": true
   },
   "outputs": [
    {
     "data": {
      "image/png": "[encoded data removed]",
      "text/latex": [
       "$$17$$"
      ],
      "text/plain": [
       "17"
      ]
     },
     "execution_count": 4,
     "metadata": {},
     "output_type": "execute_result"
    }
   ],
   "source": [
    "f=x**2+y**3\n",
    "f.subs([(x,3),(y,2)])"
   ]
  },
  {
   "cell_type": "code",
   "execution_count": 5,
   "metadata": {},
   "outputs": [
    {
     "data": {
      "image/png": "[encoded data removed]",
      "text/latex": [
       "$$\\left ( 6 x^{2} + 10 x + 2, \\quad 6 x^{2} + 10 x + 2, \\quad 3 y^{2}\\right )$$"
      ],
      "text/plain": [
       "⎛   2                2                2⎞\n",
       "⎝6⋅x  + 10⋅x + 2, 6⋅x  + 10⋅x + 2, 3⋅y ⎠"
      ]
     },
     "execution_count": 5,
     "metadata": {},
     "output_type": "execute_result"
    }
   ],
   "source": [
    "f=2*x**3 + 5*x**2 + 2*x + 9\n",
    "g=x**3+y**3\n",
    "sy.diff(f),f.diff(),g.diff(y)"
   ]
  },
  {
   "cell_type": "code",
   "execution_count": 6,
   "metadata": {},
   "outputs": [
    {
     "data": {
      "image/png": "[encoded data removed]",
      "text/latex": [
       "$$\\left ( \\left(x - 4\\right) \\left(x + 7\\right), \\quad \\left(x - 4\\right) \\left(x + 7\\right)\\right )$$"
      ],
      "text/plain": [
       "((x - 4)⋅(x + 7), (x - 4)⋅(x + 7))"
      ]
     },
     "execution_count": 6,
     "metadata": {},
     "output_type": "execute_result"
    }
   ],
   "source": [
    "f=x**2 + 3*x - 28\n",
    "f.factor(), sy.factor(f)"
   ]
  },
  {
   "cell_type": "code",
   "execution_count": 7,
   "metadata": {},
   "outputs": [
    {
     "data": {
      "text/latex": [
       "$$\\left ( \\left[\\begin{matrix}1 & 2\\\\3 & 4\\end{matrix}\\right], \\quad \\left[\\begin{matrix}1 & 3\\\\2 & 4\\end{matrix}\\right]\\right )$$"
      ],
      "text/plain": [
       "⎛⎡1  2⎤  ⎡1  3⎤⎞\n",
       "⎜⎢    ⎥, ⎢    ⎥⎟\n",
       "⎝⎣3  4⎦  ⎣2  4⎦⎠"
      ]
     },
     "execution_count": 7,
     "metadata": {},
     "output_type": "execute_result"
    }
   ],
   "source": [
    "A=sy.Matrix([[1,2],[3,4]])\n",
    "A,A.transpose()"
   ]
  },
  {
   "cell_type": "code",
   "execution_count": 8,
   "metadata": {},
   "outputs": [
    {
     "data": {
      "text/plain": [
       "<sympy.plotting.plot.Plot at 0xb0f65b30>"
      ]
     },
     "execution_count": 8,
     "metadata": {},
     "output_type": "execute_result"
    }
   ],
   "source": [
    "y = x**2 +6\n",
    "sy.plotting.plot(y, (x, -10, 10))"
   ]
  },
  {
   "cell_type": "code",
   "execution_count": 9,
   "metadata": {},
   "outputs": [],
   "source": [
    "import math\n",
    "import cmath\n",
    "x = 2 + 3*sy.I\n",
    "c = complex(x)\n",
    "real = c.real\n",
    "imag = c.imag\n",
    "abus = abs(c)\n",
    "args = math.atan2(imag,real)\n",
    "phas = cmath.phase(c)\n",
    "\n",
    "#c,real,imag,abus,args,phas,math.degrees(args)"
   ]
  },
  {
   "cell_type": "code",
   "execution_count": 10,
   "metadata": {},
   "outputs": [
    {
     "data": {
      "image/png": "[encoded data removed]",
      "text/latex": [
       "$$n^{2} + \\frac{1}{n}$$"
      ],
      "text/plain": [
       " 2   1\n",
       "n  + ─\n",
       "     n"
      ]
     },
     "execution_count": 10,
     "metadata": {},
     "output_type": "execute_result"
    }
   ],
   "source": [
    "a_n = sy.sequence(1/n+n**2)\n",
    "#a_n =sy.sequence(n)\n",
    "a_n.formula"
   ]
  },
  {
   "cell_type": "code",
   "execution_count": 11,
   "metadata": {
    "scrolled": true
   },
   "outputs": [
    {
     "data": {
      "image/png": "[encoded data removed]",
      "text/latex": [
       "$$\\left ( \\sum_{n=1}^{k} \\left(n^{2} + \\frac{1}{n}\\right), \\quad \\frac{k^{3}}{3} + \\frac{k^{2}}{2} + \\frac{k}{6} + \\operatorname{harmonic}{\\left (k \\right )}\\right )$$"
      ],
      "text/plain": [
       "⎛  k                                      ⎞\n",
       "⎜ ____                                    ⎟\n",
       "⎜ ╲                                       ⎟\n",
       "⎜  ╲   ⎛ 2   1⎞   3    2                  ⎟\n",
       "⎜   ╲  ⎜n  + ─⎟  k    k    k              ⎟\n",
       "⎜   ╱  ⎝     n⎠, ── + ── + ─ + harmonic(k)⎟\n",
       "⎜  ╱             3    2    6              ⎟\n",
       "⎜ ╱                                       ⎟\n",
       "⎜ ‾‾‾‾                                    ⎟\n",
       "⎝n = 1                                    ⎠"
      ]
     },
     "execution_count": 11,
     "metadata": {},
     "output_type": "execute_result"
    }
   ],
   "source": [
    "S = sy.Sum(a_n.formula,(n,1,k))\n",
    "S_=sy.summation(a_n.formula,(n,1,k))\n",
    "S,S_"
   ]
  },
  {
   "cell_type": "code",
   "execution_count": 66,
   "metadata": {},
   "outputs": [
    {
     "data": {
      "text/latex": [
       "$$\\left[\\begin{array}{ccc}A_{0, 0} & A_{0, 1} & A_{0, 2}\\\\A_{1, 0} & A_{1, 1} & A_{1, 2}\\\\A_{2, 0} & A_{2, 1} & A_{2, 2}\\end{array}\\right]$$"
      ],
      "text/plain": [
       "⎡A₀₀  A₀₁  A₀₂⎤\n",
       "⎢             ⎥\n",
       "⎢A₁₀  A₁₁  A₁₂⎥\n",
       "⎢             ⎥\n",
       "⎣A₂₀  A₂₁  A₂₂⎦"
      ]
     },
     "execution_count": 66,
     "metadata": {},
     "output_type": "execute_result"
    }
   ],
   "source": [
    "#A = sy.Matrix(3,3,lambda i,j:i+j)\n",
    "#A\n",
    "A = sy.MatrixSymbol('A',3,3)\n",
    "sy.Matrix(A)\n"
   ]
  },
  {
   "cell_type": "code",
   "execution_count": 82,
   "metadata": {},
   "outputs": [
    {
     "data": {
      "image/png": "[encoded data removed]",
      "text/latex": [
       "$$3^{n} \\left|{\\mathbb{I}}\\right|$$"
      ],
      "text/plain": [
       " n    \n",
       "3 ⋅│I│"
      ]
     },
     "execution_count": 82,
     "metadata": {},
     "output_type": "execute_result"
    }
   ],
   "source": [
    "sy.det(sy.Identity(n)*3+sy.ZeroMatrix(n,n))\n"
   ]
  }
 ],
 "metadata": {
  "kernelspec": {
   "display_name": "Python 3",
   "language": "python",
   "name": "python3"
  },
  "language_info": {
   "codemirror_mode": {
    "name": "ipython",
    "version": 3
   },
   "file_extension": ".py",
   "mimetype": "text/x-python",
   "name": "python",
   "nbconvert_exporter": "python",
   "pygments_lexer": "ipython3",
   "version": "3.6.2"
  }
 },
 "nbformat": 4,
 "nbformat_minor": 2
}
